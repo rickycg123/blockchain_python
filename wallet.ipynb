{
 "cells": [
  {
   "cell_type": "code",
   "execution_count": 182,
   "metadata": {},
   "outputs": [
    {
     "data": {
      "text/plain": [
       "True"
      ]
     },
     "execution_count": 182,
     "metadata": {},
     "output_type": "execute_result"
    }
   ],
   "source": [
    "from constants import *\n",
    "import os\n",
    "import subprocess\n",
    "import json\n",
    "from web3 import Web3\n",
    "from dotenv import load_dotenv\n",
    "from web3.middleware import geth_poa_middleware\n",
    "from eth_account import Account\n",
    "\n",
    "from pathlib import Path\n",
    "from getpass import getpass\n",
    "\n",
    "from bit import wif_to_key\n",
    "from bit import PrivateKeyTestnet\n",
    "from bit.network import NetworkAPI\n",
    "\n",
    "load_dotenv()\n",
    "\n",
    "\n"
   ]
  },
  {
   "cell_type": "code",
   "execution_count": 183,
   "metadata": {},
   "outputs": [],
   "source": [
    "# enter your personal mnemonic here\n",
    "\n",
    "mnemonic = os.getenv('MNEMONIC', 'work want afford grace rubber build chair sudden valley certain capital club')\n"
   ]
  },
  {
   "cell_type": "code",
   "execution_count": 184,
   "metadata": {},
   "outputs": [],
   "source": [
    "# Function to provide your wallet address\n",
    "\n",
    "def wallet_address(coins,depth):\n",
    "    \n",
    "    command = f\"../derive -g --mnemonic='{mnemonic}' --cols=path,address,privkey,pubkey --coin={coins} --numderive={depth} --format=json\"\n",
    "    \n",
    "    p = subprocess.Popen(command, stdout=subprocess.PIPE, shell=True)\n",
    "    (output, err) = p.communicate()\n",
    "    keys = json.loads(output)\n",
    "    \n",
    "    return keys"
   ]
  },
  {
   "cell_type": "code",
   "execution_count": 185,
   "metadata": {},
   "outputs": [
    {
     "data": {
      "text/plain": [
       "[{'path': \"m/44'/60'/0'/0/0\",\n",
       "  'address': '0x9eDeBC9f308848F247595e663e0796CFF62A965a',\n",
       "  'privkey': '0x75ade74425d7272a2a82f77efb632fe7e5b706f6fbe7da72637da3f795e0ab7e',\n",
       "  'pubkey': '032da0dccf8596d52496fe849671caae79748d17dfe8a77f6f97d35deb99bd498e'},\n",
       " {'path': \"m/44'/60'/0'/0/1\",\n",
       "  'address': '0x146ff600884a2c5e25216e30b52EC7D033E797d6',\n",
       "  'privkey': '0xe7a541bd8483c99a489baeaf337ac3acc7175d4aa1b444c1632a45db21b1a039',\n",
       "  'pubkey': '02656ea756cf62d73dc3575bca882a59315c8fd7553334e295feeef3694e0aae8d'},\n",
       " {'path': \"m/44'/60'/0'/0/2\",\n",
       "  'address': '0xDdAAEDa1d157C6fFFE39D1405292F480c9f74667',\n",
       "  'privkey': '0xa365b8fbe04d615293db50d379c397d68898306e5845edf3a4fd435fd62a2c7c',\n",
       "  'pubkey': '03b520019fb871ceb18b7271f11f314965a86cf64b534774bc360cfcbc55816954'}]"
      ]
     },
     "execution_count": 185,
     "metadata": {},
     "output_type": "execute_result"
    }
   ],
   "source": [
    "#ETH wallets\n",
    "wallet_address(\"ETH\",3)"
   ]
  },
  {
   "cell_type": "code",
   "execution_count": 186,
   "metadata": {},
   "outputs": [
    {
     "data": {
      "text/plain": [
       "[{'path': \"m/44'/1'/0'/0/0\",\n",
       "  'address': 'mfcheUzJTkJ4tHHz2HyGqfDxL9uUkQR9W6',\n",
       "  'privkey': 'cRSFSFMH242PYahfUaM3HMMkRwGMc8jyALZSkVnh6QEtaQJXo8dw',\n",
       "  'pubkey': '036f354c0dba78ce405f394aeee9422991db609fd500eb2de3ba1bbf7ce726f206'},\n",
       " {'path': \"m/44'/1'/0'/0/1\",\n",
       "  'address': 'mnHT7DTSDV5LpSkz6RNBoQV4GpP1s78Pup',\n",
       "  'privkey': 'cNN53odghuVBttKNZDxWon2ziYXNqburhEUoRNPUuTkt3WHSF1re',\n",
       "  'pubkey': '03dd0e3a3cfd42a88562c37b5dc469786431ab6e5c2090c7447bb2b4ffc19bb84c'},\n",
       " {'path': \"m/44'/1'/0'/0/2\",\n",
       "  'address': 'n4aL4JJVbthRSHWNPQ8uJ4nkoM8E9GUBcM',\n",
       "  'privkey': 'cUTPsFTUJNGRwSw8TTySSdGhoWatToCoAnzNXnTcDkMUT2aGA2DN',\n",
       "  'pubkey': '022a1972f906e4c3aafd33993e1aa98e9ccdd59914c8eaa26b00c646b49bd70f1e'}]"
      ]
     },
     "execution_count": 186,
     "metadata": {},
     "output_type": "execute_result"
    }
   ],
   "source": [
    "#BTC Test Wallets\n",
    "wallet_address(\"btc-test\",3)"
   ]
  },
  {
   "cell_type": "code",
   "execution_count": 187,
   "metadata": {},
   "outputs": [
    {
     "data": {
      "text/plain": [
       "[{'path': \"m/44'/0'/0'/0/0\",\n",
       "  'address': '1zH27dQfYV7iwJtdoZ6hVj1jpTVVitoWi',\n",
       "  'privkey': 'Kzh65oY6VdngSogcGNBh1BM4ZAfDVwZxzkMcVoKBgPDhvXGxVSQV',\n",
       "  'pubkey': '020862ffac75af0536eb646f096ba804f4817a0ac2028ce73a2f015d321b7115df'},\n",
       " {'path': \"m/44'/0'/0'/0/1\",\n",
       "  'address': '1XMxjdGgA8ZQUqsHzxWtR5MMAeXWg93xR',\n",
       "  'privkey': 'KzpooJXccq9X8wpooTHcRRBw9L4mVShyJQWapEhpnuJi6hiBowgs',\n",
       "  'pubkey': '02096e1edaf47ef43339b4c1d166c6f513d273b2dc5504e364d5670bed8755d58c'},\n",
       " {'path': \"m/44'/0'/0'/0/2\",\n",
       "  'address': '1KbYQsKfjgcqXS24EuQJRQjm4a2qMg1hXV',\n",
       "  'privkey': 'L1jwpSyeYaZao58XTodLBDiSSXUayhxjE6p5wzSPiuyVggSJfsR4',\n",
       "  'pubkey': '03832e4ffcfc77745c7a35de2f11de1eee280f7289e914535e3c3555202f328e8c'}]"
      ]
     },
     "execution_count": 187,
     "metadata": {},
     "output_type": "execute_result"
    }
   ],
   "source": [
    "#BTC wallets\n",
    "wallet_address(\"btc\",3)"
   ]
  },
  {
   "cell_type": "markdown",
   "metadata": {},
   "source": [
    "# Linking the transaction signing libraries"
   ]
  },
  {
   "cell_type": "code",
   "execution_count": 188,
   "metadata": {},
   "outputs": [],
   "source": [
    "def priv_key_to_account(coin,priv_key):\n",
    "    if coin == \"ETH\":\n",
    "        w3 = Web3(Web3.HTTPProvider(\"http://127.0.0.1:8545\"))\n",
    "        w3.middleware_onion.inject(geth_poa_middleware, layer=0)\n",
    "\n",
    "        #account_one = Account.from_key(os.getenv(\"PRIVATE_KEY\"))\n",
    "        #account_one = Account.from_key(PRIVATE_KEY)\n",
    "        account_one = Account.privateKeyToAccount(priv_key)\n",
    "        print(account_one)\n",
    "        return account_one\n",
    "    \n",
    "    elif coin == \"btc-test\":\n",
    "        btc_account= PrivateKeyTestnet(priv_key)\n",
    "        \n",
    "        return btc_account"
   ]
  },
  {
   "cell_type": "code",
   "execution_count": 189,
   "metadata": {},
   "outputs": [],
   "source": [
    "def create_tx(coin, account, recipient, amount):\n",
    "    if coin == \"ETH\":\n",
    "        gasEstimate = w3.eth.estimateGas(\n",
    "            {\"from\": account.address, \"to\": recipient, \"value\": amount}\n",
    "        )\n",
    "        return {\n",
    "            \"from\": account.address,\n",
    "            \"to\": recipient,\n",
    "            \"value\": amount,\n",
    "            \"gasPrice\": round(w3.eth.gasPrice),\n",
    "            \"gas\": gasEstimate,\n",
    "            \"nonce\": w3.eth.getTransactionCount(account.address),\n",
    "        }\n",
    "\n",
    "    elif coin == \"btc-test\":\n",
    "        btc_tx = PrivateKeyTestnet.prepare_transaction(account.address, [(recipient, amount, BTC)])\n",
    "        \n",
    "        return btc_tx "
   ]
  },
  {
   "cell_type": "code",
   "execution_count": 190,
   "metadata": {},
   "outputs": [],
   "source": [
    "\n",
    "def send_tx(coin, account, recipient, amount):\n",
    "    if coin == \"ETH\":\n",
    "        tx = create_tx(coin,account, recipient, amount)\n",
    "        signed_tx = account.sign_transaction(tx)\n",
    "        result = w3.eth.sendRawTransaction(signed_tx.rawTransaction)\n",
    "        print(result.hex())\n",
    "        return result.hex()\n",
    "    \n",
    "    elif coin == \"btc-test\":\n",
    "        btc_tx = create_tx(coin,account, recipient, amount)\n",
    "        tx_hex = key.sign_transaction(btc_tx)\n",
    "        result = NetworkAPI.broadcast_tx_testnet(tx_hex)\n",
    "        \n",
    "        return tx_hex"
   ]
  },
  {
   "cell_type": "markdown",
   "metadata": {},
   "source": [
    "# Sending ETH Transaction "
   ]
  },
  {
   "cell_type": "code",
   "execution_count": 195,
   "metadata": {},
   "outputs": [
    {
     "name": "stdout",
     "output_type": "stream",
     "text": [
      "<eth_account.signers.local.LocalAccount object at 0x7ff96b2a3b90>\n"
     ]
    },
    {
     "data": {
      "text/plain": [
       "<eth_account.signers.local.LocalAccount at 0x7ff96b2a3b90>"
      ]
     },
     "execution_count": 195,
     "metadata": {},
     "output_type": "execute_result"
    }
   ],
   "source": [
    "# Enter your ETH private key with funding\n",
    "\n",
    "eth_address1 = \"0x9eDeBC9f308848F247595e663e0796CFF62A965a\"\n",
    "eth_priv_key1 = '0x75ade74425d7272a2a82f77efb632fe7e5b706f6fbe7da72637da3f795e0ab7e'\n",
    "#priv_key2 = '0xe7a541bd8483c99a489baeaf337ac3acc7175d4aa1b444c1632a45db21b1a039'\n",
    "account_one = priv_key_to_account(\"ETH\",eth_priv_key1)\n",
    "account_one\n"
   ]
  },
  {
   "cell_type": "code",
   "execution_count": 194,
   "metadata": {},
   "outputs": [
    {
     "data": {
      "text/plain": [
       "89968411839965552223"
      ]
     },
     "execution_count": 194,
     "metadata": {},
     "output_type": "execute_result"
    }
   ],
   "source": [
    "# Check the balance\n",
    "\n",
    "w3 = Web3(Web3.HTTPProvider(\"http://127.0.0.1:8545\"))\n",
    "w3.eth.getBalance(eth_address1)"
   ]
  },
  {
   "cell_type": "code",
   "execution_count": 196,
   "metadata": {},
   "outputs": [
    {
     "data": {
      "text/plain": [
       "{'from': '0x9eDeBC9f308848F247595e663e0796CFF62A965a',\n",
       " 'to': '0x146ff600884a2c5e25216e30b52EC7D033E797d6',\n",
       " 'value': 8888,\n",
       " 'gasPrice': 20000000000,\n",
       " 'gas': 21000,\n",
       " 'nonce': 15}"
      ]
     },
     "execution_count": 196,
     "metadata": {},
     "output_type": "execute_result"
    }
   ],
   "source": [
    "# Create unsigned transaction ticket using the function above and enter the receipient and amount\n",
    "receipient_eth1 = \"0x146ff600884a2c5e25216e30b52EC7D033E797d6\"\n",
    "create_tx(\"ETH\",account_one,receipient_eth1,8888)\n",
    "\n"
   ]
  },
  {
   "cell_type": "code",
   "execution_count": 197,
   "metadata": {},
   "outputs": [
    {
     "name": "stdout",
     "output_type": "stream",
     "text": [
      "0x92059faea613acf46f772ef649a4afe81198b35cdcefaf1469d93195a1592990\n"
     ]
    },
    {
     "data": {
      "text/plain": [
       "'0x92059faea613acf46f772ef649a4afe81198b35cdcefaf1469d93195a1592990'"
      ]
     },
     "execution_count": 197,
     "metadata": {},
     "output_type": "execute_result"
    }
   ],
   "source": [
    "# now signed the contract and send transaction ticket\n",
    "send_tx(\"ETH\",account_one,receipient_eth1,8888)"
   ]
  },
  {
   "cell_type": "code",
   "execution_count": 198,
   "metadata": {},
   "outputs": [
    {
     "data": {
      "text/plain": [
       "AttributeDict({'transactionHash': HexBytes('0x92059faea613acf46f772ef649a4afe81198b35cdcefaf1469d93195a1592990'),\n",
       " 'transactionIndex': 0,\n",
       " 'blockHash': HexBytes('0x4f82eb4ca5d8eff6f355b00deca905b723f7b3a22f4cefb2b3d68d4708816084'),\n",
       " 'blockNumber': 21,\n",
       " 'from': '0x9eDeBC9f308848F247595e663e0796CFF62A965a',\n",
       " 'to': '0x146ff600884a2c5e25216e30b52EC7D033E797d6',\n",
       " 'gasUsed': 21000,\n",
       " 'cumulativeGasUsed': 21000,\n",
       " 'contractAddress': None,\n",
       " 'logs': [],\n",
       " 'status': 1,\n",
       " 'logsBloom': HexBytes('0x00000000000000000000000000000000000000000000000000000000000000000000000000000000000000000000000000000000000000000000000000000000000000000000000000000000000000000000000000000000000000000000000000000000000000000000000000000000000000000000000000000000000000000000000000000000000000000000000000000000000000000000000000000000000000000000000000000000000000000000000000000000000000000000000000000000000000000000000000000000000000000000000000000000000000000000000000000000000000000000000000000000000000000000000000000000')})"
      ]
     },
     "execution_count": 198,
     "metadata": {},
     "output_type": "execute_result"
    }
   ],
   "source": [
    "w3.eth.getTransactionReceipt(\"0x92059faea613acf46f772ef649a4afe81198b35cdcefaf1469d93195a1592990\")"
   ]
  },
  {
   "cell_type": "code",
   "execution_count": 199,
   "metadata": {},
   "outputs": [
    {
     "data": {
      "text/plain": [
       "AttributeDict({'hash': HexBytes('0x92059faea613acf46f772ef649a4afe81198b35cdcefaf1469d93195a1592990'),\n",
       " 'nonce': 15,\n",
       " 'blockHash': HexBytes('0x4f82eb4ca5d8eff6f355b00deca905b723f7b3a22f4cefb2b3d68d4708816084'),\n",
       " 'blockNumber': 21,\n",
       " 'transactionIndex': 0,\n",
       " 'from': '0x9eDeBC9f308848F247595e663e0796CFF62A965a',\n",
       " 'to': '0x146ff600884a2c5e25216e30b52EC7D033E797d6',\n",
       " 'value': 8888,\n",
       " 'gas': 21000,\n",
       " 'gasPrice': 20000000000,\n",
       " 'input': '0x',\n",
       " 'v': 27,\n",
       " 'r': HexBytes('0x268cae7a2e89ef849b79060a7bc00672c857599166e3cf6eeaa2054c765dc367'),\n",
       " 's': HexBytes('0x7657b8f7d60379aae71f331aea76a5a93f03b07eec075fb4ea403894c08497d1')})"
      ]
     },
     "execution_count": 199,
     "metadata": {},
     "output_type": "execute_result"
    }
   ],
   "source": [
    "w3.eth.getTransaction(\"0x92059faea613acf46f772ef649a4afe81198b35cdcefaf1469d93195a1592990\")"
   ]
  },
  {
   "cell_type": "markdown",
   "metadata": {},
   "source": [
    "# Sending BTC-Test Transaction"
   ]
  },
  {
   "cell_type": "code",
   "execution_count": 200,
   "metadata": {},
   "outputs": [
    {
     "data": {
      "text/plain": [
       "'0.00936432'"
      ]
     },
     "execution_count": 200,
     "metadata": {},
     "output_type": "execute_result"
    }
   ],
   "source": [
    "#enter your private key and check the balance\n",
    "\n",
    "btc_priv_key1=\"cRSFSFMH242PYahfUaM3HMMkRwGMc8jyALZSkVnh6QEtaQJXo8dw\"\n",
    "\n",
    "key = wif_to_key(btc_priv_key1)\n",
    "\n",
    "key.get_balance('btc')\n",
    "\n"
   ]
  },
  {
   "cell_type": "code",
   "execution_count": 201,
   "metadata": {},
   "outputs": [
    {
     "data": {
      "text/plain": [
       "<PrivateKeyTestnet: mfcheUzJTkJ4tHHz2HyGqfDxL9uUkQR9W6>"
      ]
     },
     "execution_count": 201,
     "metadata": {},
     "output_type": "execute_result"
    }
   ],
   "source": [
    "# get BTC account address from private key\n",
    "\n",
    "btc_account_one = priv_key_to_account(\"btc-test\",btc_priv_key1)\n",
    "btc_account_one"
   ]
  },
  {
   "cell_type": "code",
   "execution_count": 202,
   "metadata": {},
   "outputs": [
    {
     "data": {
      "text/plain": [
       "'{\"unspents\":[{\"amount\":1000000,\"confirmations\":-1804785,\"script\":\"76a914011644b7b5d9b86c6059fe2ca6614bf26494736c88ac\",\"txid\":\"d8e73759ffac19660cf7b0cc34a4f58dfe5eb600916b60ac9b84fb35549fab84\",\"txindex\":0,\"type\":\"p2pkh\",\"vsize\":148,\"segwit\":false},{\"amount\":936432,\"confirmations\":-1804762,\"script\":\"76a914011644b7b5d9b86c6059fe2ca6614bf26494736c88ac\",\"txid\":\"6c1d530b6fc30d2d9d5057c85a005c1008e0da27714cb413db7b814057e392be\",\"txindex\":1,\"type\":\"p2pkh\",\"vsize\":148,\"segwit\":false}],\"outputs\":[[\"mnHT7DTSDV5LpSkz6RNBoQV4GpP1s78Pup\",300000],[\"mfcheUzJTkJ4tHHz2HyGqfDxL9uUkQR9W6\",1555648]]}'"
      ]
     },
     "execution_count": 202,
     "metadata": {},
     "output_type": "execute_result"
    }
   ],
   "source": [
    "# Create unsigned transaction ticket using the function above and enter the receipient and amount\n",
    "\n",
    "receipient_btc1 = \"mnHT7DTSDV5LpSkz6RNBoQV4GpP1s78Pup\"\n",
    "create_tx(\"btc-test\",btc_account_one,receipient_btc1,0.003)\n"
   ]
  },
  {
   "cell_type": "code",
   "execution_count": 204,
   "metadata": {},
   "outputs": [
    {
     "data": {
      "text/plain": [
       "'010000000284ab9f5435fb849bac606b9100b65efe8df5a434ccb0f70c6619acff5937e7d8000000006b483045022100f2115d25af4a27db3e8cfc778bb412fce9b7dd435a9e645176ed3715acdf908c02202c5fa6ae94aadf4f539bb0bac035b078bfa73d8a21875ed3b373bf16965b42bf0121036f354c0dba78ce405f394aeee9422991db609fd500eb2de3ba1bbf7ce726f206ffffffffbe92e35740817bdb13b44c7127dae008105c005ac857509d2d0dc36f0b531d6c010000006a47304402201246757fe6151d647e0de1180e74b093aeff2cfa0d0074e1e0d379ae1be9f4a602204a89378f616292012f2178a4655ef96b85784568b87b8966dd5a63fb2b4e8f720121036f354c0dba78ce405f394aeee9422991db609fd500eb2de3ba1bbf7ce726f206ffffffff02e0930400000000001976a9144a3b1be828b8cb028c86edca61d8fc12c91237e188acc0bc1700000000001976a914011644b7b5d9b86c6059fe2ca6614bf26494736c88ac00000000'"
      ]
     },
     "execution_count": 204,
     "metadata": {},
     "output_type": "execute_result"
    }
   ],
   "source": [
    "# now signed the contract and send transaction ticket\n",
    "send_tx(\"btc-test\",btc_account_one,receipient_btc1,0.003)\n"
   ]
  }
 ],
 "metadata": {
  "kernelspec": {
   "display_name": "Python 3",
   "language": "python",
   "name": "python3"
  },
  "language_info": {
   "codemirror_mode": {
    "name": "ipython",
    "version": 3
   },
   "file_extension": ".py",
   "mimetype": "text/x-python",
   "name": "python",
   "nbconvert_exporter": "python",
   "pygments_lexer": "ipython3",
   "version": "3.7.6"
  }
 },
 "nbformat": 4,
 "nbformat_minor": 4
}
